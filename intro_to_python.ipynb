{
  "cells": [
    {
      "cell_type": "markdown",
      "metadata": {
        "id": "view-in-github",
        "colab_type": "text"
      },
      "source": [
        "<a href=\"https://colab.research.google.com/github/henriquefukushima/intro-to-data-science/blob/dev/intro_to_python.ipynb\" target=\"_parent\"><img src=\"https://colab.research.google.com/assets/colab-badge.svg\" alt=\"Open In Colab\"/></a>"
      ]
    },
    {
      "cell_type": "markdown",
      "metadata": {
        "id": "pD6s7xOdRnuH"
      },
      "source": [
        "# Introduction to Python\n",
        "\n",
        "This Notebook is organized into two main sections. In the first one, we provide an overview of Python's main features. In the second section, we discuss best practices and coding standards, offering guidelines to help you write clean, efficient, and maintainable Python code."
      ]
    },
    {
      "cell_type": "markdown",
      "source": [
        "# Python"
      ],
      "metadata": {
        "id": "9I4u_liGz5I2"
      }
    },
    {
      "cell_type": "markdown",
      "metadata": {
        "id": "rmRt8lTkRnuI"
      },
      "source": [
        "## Syntax and Data Types"
      ]
    },
    {
      "cell_type": "markdown",
      "source": [
        "Variables in Python are `dynamically` typed.\n",
        "\n",
        "You don’t have to explicitly declare the type of a variable.\n",
        "\n",
        "Instead, the interpreter determines the type at runtime based on the value assigned to it.\n",
        "\n",
        "This means you can reassign a variable with values of different types during the execution of your program, and type checking happens while the code runs rather than before execution.\n",
        "\n",
        "There are mainly four data types:\n",
        "- Float\n",
        "- Integer\n",
        "- String\n",
        "- Boolean"
      ],
      "metadata": {
        "id": "dXLUKIT3rUu-"
      }
    },
    {
      "cell_type": "code",
      "execution_count": null,
      "metadata": {
        "id": "kPVT8uvFRnuJ"
      },
      "outputs": [],
      "source": [
        "a = 0.15                    # Float\n",
        "b = 7                       # Integer\n",
        "name = \"Molecular Sciences\" # String\n",
        "is_valid = True             # Boolean"
      ]
    },
    {
      "cell_type": "markdown",
      "metadata": {
        "id": "BiV2gj7ZRnuJ"
      },
      "source": [
        "You can check the type of a variable with the `type()` command"
      ]
    },
    {
      "cell_type": "code",
      "execution_count": null,
      "metadata": {
        "colab": {
          "base_uri": "https://localhost:8080/"
        },
        "id": "GESyE-HQRnuK",
        "outputId": "bd6c40e6-b1bc-46ec-ce97-d667dea68e6c"
      },
      "outputs": [
        {
          "output_type": "execute_result",
          "data": {
            "text/plain": [
              "str"
            ]
          },
          "metadata": {},
          "execution_count": 3
        }
      ],
      "source": [
        "type(name)"
      ]
    },
    {
      "cell_type": "markdown",
      "metadata": {
        "id": "d0dbps-ORnuK"
      },
      "source": [
        "## Control Flow"
      ]
    },
    {
      "cell_type": "markdown",
      "source": [
        "### Conditionals"
      ],
      "metadata": {
        "id": "zUt5lNJBrZ1d"
      }
    },
    {
      "cell_type": "code",
      "execution_count": null,
      "metadata": {
        "id": "t2e_toNmRnuK"
      },
      "outputs": [],
      "source": [
        "if a > 5:\n",
        "    print(\"a is greater than 5\")\n",
        "elif a < 5:\n",
        "    print(\"a is less than 5\")\n",
        "else:\n",
        "    print(\"a is 5\")"
      ]
    },
    {
      "cell_type": "markdown",
      "metadata": {
        "id": "6lozUvc6RnuL"
      },
      "source": [
        "### Loops"
      ]
    },
    {
      "cell_type": "code",
      "execution_count": null,
      "metadata": {
        "id": "CnhfTrr9RnuL",
        "outputId": "e12b5f45-3bf2-4c29-9e8a-443cc9eb00b1"
      },
      "outputs": [
        {
          "name": "stdout",
          "output_type": "stream",
          "text": [
            "0\n",
            "1\n",
            "2\n",
            "3\n",
            "4\n"
          ]
        }
      ],
      "source": [
        "for i in range(5):\n",
        "    print(i)"
      ]
    },
    {
      "cell_type": "code",
      "execution_count": null,
      "metadata": {
        "colab": {
          "base_uri": "https://localhost:8080/"
        },
        "id": "mZxONWPrRnuL",
        "outputId": "7f6fd7dc-ff93-4c1f-900c-4efc3c7c379e"
      },
      "outputs": [
        {
          "output_type": "stream",
          "name": "stdout",
          "text": [
            "5\n",
            "4\n",
            "3\n",
            "2\n",
            "1\n"
          ]
        }
      ],
      "source": [
        "i = 5\n",
        "while i > 0:\n",
        "  print(i)\n",
        "  i-=1"
      ]
    },
    {
      "cell_type": "markdown",
      "source": [
        "## Data Structures"
      ],
      "metadata": {
        "id": "gSts5JznSlYR"
      }
    },
    {
      "cell_type": "markdown",
      "source": [
        "### List\n",
        "\n",
        "Ordered, mutable collections."
      ],
      "metadata": {
        "id": "7901sj4DrgVe"
      }
    },
    {
      "cell_type": "code",
      "source": [
        "subjects = ['Math', 'Physics', 'Chemistry', 'Biology', 'Computation']"
      ],
      "metadata": {
        "id": "EfZWWL_pSnC4"
      },
      "execution_count": null,
      "outputs": []
    },
    {
      "cell_type": "markdown",
      "source": [
        "Indexes range from zero to `len(list)`"
      ],
      "metadata": {
        "id": "B4g18pEqTBOx"
      }
    },
    {
      "cell_type": "code",
      "source": [
        "subjects[0]"
      ],
      "metadata": {
        "colab": {
          "base_uri": "https://localhost:8080/",
          "height": 35
        },
        "id": "xadWZHz6S9er",
        "outputId": "cb265f83-ff15-4f8b-9c86-faaf55457c76"
      },
      "execution_count": null,
      "outputs": [
        {
          "output_type": "execute_result",
          "data": {
            "text/plain": [
              "'Math'"
            ],
            "application/vnd.google.colaboratory.intrinsic+json": {
              "type": "string"
            }
          },
          "metadata": {},
          "execution_count": 5
        }
      ]
    },
    {
      "cell_type": "markdown",
      "source": [
        "### Dictionaries\n",
        "\n",
        "Key-value pairs for mapping relationships (hash table structures)."
      ],
      "metadata": {
        "id": "v5RZea6xTKQp"
      }
    },
    {
      "cell_type": "code",
      "source": [
        "people = {'Alice': 34, 'Bob': 35}\n",
        "print(people['Alice'])"
      ],
      "metadata": {
        "colab": {
          "base_uri": "https://localhost:8080/"
        },
        "id": "cKNNJFgvTL0a",
        "outputId": "8afee155-cbeb-44d6-d72b-6f8746a42bdb"
      },
      "execution_count": null,
      "outputs": [
        {
          "output_type": "stream",
          "name": "stdout",
          "text": [
            "34\n"
          ]
        }
      ]
    },
    {
      "cell_type": "markdown",
      "source": [
        "### Tuples\n",
        "\n",
        "Immutable, ordered collections."
      ],
      "metadata": {
        "id": "L5tjM19mT3LH"
      }
    },
    {
      "cell_type": "code",
      "source": [
        "coordinates = (360, 120, 60)"
      ],
      "metadata": {
        "id": "zVqcA5jWTb-H"
      },
      "execution_count": null,
      "outputs": []
    },
    {
      "cell_type": "markdown",
      "source": [
        "### Sets\n",
        "\n",
        "Unordered collections of unique elements."
      ],
      "metadata": {
        "id": "X-d9lINGVsac"
      }
    },
    {
      "cell_type": "code",
      "source": [
        "Omega = {1, 3, 5, 6, 6, 7}"
      ],
      "metadata": {
        "id": "U9WAtxrwVtv0"
      },
      "execution_count": null,
      "outputs": []
    },
    {
      "cell_type": "code",
      "source": [
        "print(Omega)"
      ],
      "metadata": {
        "colab": {
          "base_uri": "https://localhost:8080/"
        },
        "id": "hUZohympV04G",
        "outputId": "4bbbd4f8-428d-471a-d09f-2bf3d83629d0"
      },
      "execution_count": null,
      "outputs": [
        {
          "output_type": "stream",
          "name": "stdout",
          "text": [
            "{1, 3, 5, 6, 7}\n"
          ]
        }
      ]
    },
    {
      "cell_type": "markdown",
      "source": [
        "## Functions"
      ],
      "metadata": {
        "id": "qH5zeDF-VL3Y"
      }
    },
    {
      "cell_type": "markdown",
      "source": [
        "### Normal Functions"
      ],
      "metadata": {
        "id": "ejiXUZKLrlYQ"
      }
    },
    {
      "cell_type": "code",
      "source": [
        "def add(x, y):\n",
        "    return x + y\n",
        "\n",
        "print(add(3, 4))"
      ],
      "metadata": {
        "colab": {
          "base_uri": "https://localhost:8080/"
        },
        "id": "2fq7dOlcUzi1",
        "outputId": "96bcdd5d-698d-479f-962b-22630311de73"
      },
      "execution_count": null,
      "outputs": [
        {
          "output_type": "stream",
          "name": "stdout",
          "text": [
            "7\n"
          ]
        }
      ]
    },
    {
      "cell_type": "markdown",
      "source": [
        "### Lambda Functions\n",
        "\n",
        "Create small functions without naming them."
      ],
      "metadata": {
        "id": "8z5lGvhqVQAa"
      }
    },
    {
      "cell_type": "code",
      "source": [
        "square = lambda x: x * x\n",
        "\n",
        "print(square(5))"
      ],
      "metadata": {
        "colab": {
          "base_uri": "https://localhost:8080/"
        },
        "id": "_0DeJ0UPVRHG",
        "outputId": "d33ddd3b-f853-41d9-b1fd-69698f561b32"
      },
      "execution_count": null,
      "outputs": [
        {
          "output_type": "stream",
          "name": "stdout",
          "text": [
            "25\n"
          ]
        }
      ]
    },
    {
      "cell_type": "markdown",
      "source": [
        "## Modules and Packages"
      ],
      "metadata": {
        "id": "HBIS_o4TWAsR"
      }
    },
    {
      "cell_type": "markdown",
      "source": [
        "### Installation"
      ],
      "metadata": {
        "id": "2wzotOQnroa_"
      }
    },
    {
      "cell_type": "code",
      "source": [
        "!pip install numpy"
      ],
      "metadata": {
        "colab": {
          "base_uri": "https://localhost:8080/"
        },
        "id": "SGOUpERhWCGi",
        "outputId": "a8555e85-2ebb-4a37-cc6c-91da019f7dcf"
      },
      "execution_count": null,
      "outputs": [
        {
          "output_type": "stream",
          "name": "stdout",
          "text": [
            "Requirement already satisfied: numpy in /usr/local/lib/python3.11/dist-packages (2.0.2)\n"
          ]
        }
      ]
    },
    {
      "cell_type": "markdown",
      "source": [
        "### Import"
      ],
      "metadata": {
        "id": "acX6vofagujW"
      }
    },
    {
      "cell_type": "code",
      "source": [
        "import numpy as np\n",
        "\n",
        "print(np.pi)"
      ],
      "metadata": {
        "colab": {
          "base_uri": "https://localhost:8080/"
        },
        "id": "L-VjVKVKgd46",
        "outputId": "90371b3c-6ad4-4bb5-91d4-a93a98d65383"
      },
      "execution_count": null,
      "outputs": [
        {
          "output_type": "stream",
          "name": "stdout",
          "text": [
            "3.141592653589793\n"
          ]
        }
      ]
    },
    {
      "cell_type": "markdown",
      "source": [
        "There are packages and modules that are Python' standard, such as `math` or `random`"
      ],
      "metadata": {
        "id": "JWfr2RzPg1uA"
      }
    },
    {
      "cell_type": "code",
      "source": [
        "import math\n",
        "\n",
        "print(math.sqrt(16))"
      ],
      "metadata": {
        "colab": {
          "base_uri": "https://localhost:8080/"
        },
        "id": "jHbbb6Dag9G5",
        "outputId": "4c4d7778-a58b-44c7-8ccc-0c95f8f1dc1b"
      },
      "execution_count": null,
      "outputs": [
        {
          "output_type": "stream",
          "name": "stdout",
          "text": [
            "4.0\n"
          ]
        }
      ]
    },
    {
      "cell_type": "markdown",
      "source": [
        "## File I/O"
      ],
      "metadata": {
        "id": "aMlvHC2chEGd"
      }
    },
    {
      "cell_type": "markdown",
      "source": [
        "Input and Output of files"
      ],
      "metadata": {
        "id": "04qNdaoqrvPd"
      }
    },
    {
      "cell_type": "code",
      "source": [
        "# Writing to a file:\n",
        "with open(\"example.txt\", \"w\") as f:\n",
        "    f.write(\"Hello, T33!\")\n",
        "\n",
        "# Reading from a file:\n",
        "with open(\"example.txt\", \"r\") as f:\n",
        "    content = f.read()\n",
        "print(content)"
      ],
      "metadata": {
        "colab": {
          "base_uri": "https://localhost:8080/"
        },
        "id": "oWwrG0eYhL99",
        "outputId": "7f36a88e-5412-462b-eab3-77ff1644288a"
      },
      "execution_count": null,
      "outputs": [
        {
          "output_type": "stream",
          "name": "stdout",
          "text": [
            "Hello, T33!\n"
          ]
        }
      ]
    },
    {
      "cell_type": "markdown",
      "source": [
        "## Object Oriented Programming"
      ],
      "metadata": {
        "id": "D6qfDYkKjYA2"
      }
    },
    {
      "cell_type": "code",
      "source": [
        "class Queue:\n",
        "\n",
        "  def __init__(self):\n",
        "    self.items = []\n",
        "\n",
        "  def is_empty(self):\n",
        "    \"\"\"Check if the queue is empty.\"\"\"\n",
        "    return len(self.items) == 0\n",
        "\n",
        "  def enqueue(self, item):\n",
        "    \"\"\"Add an item to the back of the queue.\"\"\"\n",
        "    self.items.append(item)\n",
        "\n",
        "  def dequeue(self):\n",
        "    \"\"\"\n",
        "    Remove and return the item from the front of the queue.\n",
        "    Raises an IndexError if the queue is empty.\n",
        "    \"\"\"\n",
        "    if not self.is_empty():\n",
        "      return self.items.pop(0)\n",
        "    raise IndexError(\"Queue is empty\")\n",
        "\n",
        "  def size(self):\n",
        "        \"\"\"Return the number of items in the queue.\"\"\"\n",
        "        return len(self.items)"
      ],
      "metadata": {
        "id": "Gz45xZuWimjh"
      },
      "execution_count": null,
      "outputs": []
    },
    {
      "cell_type": "code",
      "source": [
        "q = Queue()"
      ],
      "metadata": {
        "id": "IoclhJfkr5QQ"
      },
      "execution_count": null,
      "outputs": []
    },
    {
      "cell_type": "markdown",
      "source": [
        "# Good Programming Practices in Python"
      ],
      "metadata": {
        "id": "ip9cL3T0kw56"
      }
    },
    {
      "cell_type": "markdown",
      "source": [
        "Writing Python code isn't just about making it work—it's about making it clear, concise, and robust."
      ],
      "metadata": {
        "id": "14qjD8Jw0Gun"
      }
    },
    {
      "cell_type": "markdown",
      "source": [
        "## Follow PEP 8 Guidelines:\n",
        "Use Python’s official style guide (PEP 8) for code formatting. This includes proper indentation, spacing, and naming conventions, making your code more readable to others (and to your future self).\n",
        "\n",
        "https://peps.python.org/pep-0008/"
      ],
      "metadata": {
        "id": "miDEilUT0YnJ"
      }
    },
    {
      "cell_type": "markdown",
      "source": [
        "## Write Meaningful Names and Docstrings:\n",
        "Use descriptive names for variables, functions, and classes. Include docstrings in your modules, functions, and classes to explain what they do, their parameters, and expected outputs."
      ],
      "metadata": {
        "id": "PRYsxdhr0b41"
      }
    },
    {
      "cell_type": "markdown",
      "source": [
        "## Keep Code Modular:\n",
        "Break your code into small, reusable functions or classes. This separation of concerns makes your code easier to test and maintain."
      ],
      "metadata": {
        "id": "gRG5SY2O0ikJ"
      }
    },
    {
      "cell_type": "markdown",
      "source": [
        "## Avoid Repetition (DRY Principle):\n",
        "Don’t Repeat Yourself. Abstract common functionality into functions or classes to reduce code redundancy."
      ],
      "metadata": {
        "id": "JSvOwHhG0pEw"
      }
    },
    {
      "cell_type": "markdown",
      "source": [
        "\n",
        "## Handle Errors Gracefully:\n",
        "Use try-except blocks to manage potential runtime errors without crashing your program. This helps create a more robust application."
      ],
      "metadata": {
        "id": "Te53jBSI0s8m"
      }
    },
    {
      "cell_type": "markdown",
      "source": [
        "## Write Tests:\n",
        "Develop unit tests for your functions and classes to ensure they work as expected. Tools like unittest or pytest can help automate testing."
      ],
      "metadata": {
        "id": "mvnsvjur0x-H"
      }
    },
    {
      "cell_type": "markdown",
      "source": [
        "## Use Version Control:\n",
        "Track your changes with version control systems like Git. This facilitates collaboration and helps manage code changes over time."
      ],
      "metadata": {
        "id": "3qHOJw3G0zet"
      }
    },
    {
      "cell_type": "markdown",
      "source": [
        "## Leverage Python’s Standard Library:\n",
        "Before reinventing the wheel, check if a module in Python's extensive standard library or a third-party package can solve your problem."
      ],
      "metadata": {
        "id": "B1Wt9Jsb01Wt"
      }
    },
    {
      "cell_type": "markdown",
      "source": [
        "# Bibliography"
      ],
      "metadata": {
        "id": "3eTIdbuRzySi"
      }
    }
  ],
  "metadata": {
    "kernelspec": {
      "display_name": "venv",
      "language": "python",
      "name": "python3"
    },
    "language_info": {
      "codemirror_mode": {
        "name": "ipython",
        "version": 3
      },
      "file_extension": ".py",
      "mimetype": "text/x-python",
      "name": "python",
      "nbconvert_exporter": "python",
      "pygments_lexer": "ipython3",
      "version": "3.13.1"
    },
    "colab": {
      "provenance": [],
      "include_colab_link": true
    }
  },
  "nbformat": 4,
  "nbformat_minor": 0
}